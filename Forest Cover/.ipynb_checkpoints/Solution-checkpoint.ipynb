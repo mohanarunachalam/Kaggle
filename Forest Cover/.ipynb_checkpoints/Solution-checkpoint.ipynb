{
 "metadata": {
  "name": ""
 },
 "nbformat": 3,
 "nbformat_minor": 0,
 "worksheets": [
  {
   "cells": [
    {
     "cell_type": "code",
     "collapsed": false,
     "input": [
      "import numpy as np\n",
      "import pandas as pd\n",
      "from sklearn.cross_validation import train_test_split\n",
      "from sklearn.grid_search import GridSearchCV\n",
      "from sklearn.linear_model import LogisticRegression\n",
      "import matplotlib as plt"
     ],
     "language": "python",
     "metadata": {},
     "outputs": [],
     "prompt_number": 1
    },
    {
     "cell_type": "code",
     "collapsed": false,
     "input": [
      "train_data = pd.read_csv('train.csv')\n",
      "test_data = pd.read_csv('test.csv')\n",
      "sample_submission = pd.read_csv('sampleSubmission.csv')"
     ],
     "language": "python",
     "metadata": {},
     "outputs": [],
     "prompt_number": 2
    },
    {
     "cell_type": "code",
     "collapsed": false,
     "input": [
      "train_data.head()"
     ],
     "language": "python",
     "metadata": {},
     "outputs": [
      {
       "html": [
        "<div style=\"max-height:1000px;max-width:1500px;overflow:auto;\">\n",
        "<table border=\"1\" class=\"dataframe\">\n",
        "  <thead>\n",
        "    <tr style=\"text-align: right;\">\n",
        "      <th></th>\n",
        "      <th>Id</th>\n",
        "      <th>Elevation</th>\n",
        "      <th>Aspect</th>\n",
        "      <th>Slope</th>\n",
        "      <th>Horizontal_Distance_To_Hydrology</th>\n",
        "      <th>Vertical_Distance_To_Hydrology</th>\n",
        "      <th>Horizontal_Distance_To_Roadways</th>\n",
        "      <th>Hillshade_9am</th>\n",
        "      <th>Hillshade_Noon</th>\n",
        "      <th>Hillshade_3pm</th>\n",
        "      <th>...</th>\n",
        "      <th>Soil_Type32</th>\n",
        "      <th>Soil_Type33</th>\n",
        "      <th>Soil_Type34</th>\n",
        "      <th>Soil_Type35</th>\n",
        "      <th>Soil_Type36</th>\n",
        "      <th>Soil_Type37</th>\n",
        "      <th>Soil_Type38</th>\n",
        "      <th>Soil_Type39</th>\n",
        "      <th>Soil_Type40</th>\n",
        "      <th>Cover_Type</th>\n",
        "    </tr>\n",
        "  </thead>\n",
        "  <tbody>\n",
        "    <tr>\n",
        "      <th>0</th>\n",
        "      <td>1</td>\n",
        "      <td>2596</td>\n",
        "      <td>51</td>\n",
        "      <td>3</td>\n",
        "      <td>258</td>\n",
        "      <td>0</td>\n",
        "      <td>510</td>\n",
        "      <td>221</td>\n",
        "      <td>232</td>\n",
        "      <td>148</td>\n",
        "      <td>...</td>\n",
        "      <td>0</td>\n",
        "      <td>0</td>\n",
        "      <td>0</td>\n",
        "      <td>0</td>\n",
        "      <td>0</td>\n",
        "      <td>0</td>\n",
        "      <td>0</td>\n",
        "      <td>0</td>\n",
        "      <td>0</td>\n",
        "      <td>5</td>\n",
        "    </tr>\n",
        "    <tr>\n",
        "      <th>1</th>\n",
        "      <td>2</td>\n",
        "      <td>2590</td>\n",
        "      <td>56</td>\n",
        "      <td>2</td>\n",
        "      <td>212</td>\n",
        "      <td>-6</td>\n",
        "      <td>390</td>\n",
        "      <td>220</td>\n",
        "      <td>235</td>\n",
        "      <td>151</td>\n",
        "      <td>...</td>\n",
        "      <td>0</td>\n",
        "      <td>0</td>\n",
        "      <td>0</td>\n",
        "      <td>0</td>\n",
        "      <td>0</td>\n",
        "      <td>0</td>\n",
        "      <td>0</td>\n",
        "      <td>0</td>\n",
        "      <td>0</td>\n",
        "      <td>5</td>\n",
        "    </tr>\n",
        "    <tr>\n",
        "      <th>2</th>\n",
        "      <td>3</td>\n",
        "      <td>2804</td>\n",
        "      <td>139</td>\n",
        "      <td>9</td>\n",
        "      <td>268</td>\n",
        "      <td>65</td>\n",
        "      <td>3180</td>\n",
        "      <td>234</td>\n",
        "      <td>238</td>\n",
        "      <td>135</td>\n",
        "      <td>...</td>\n",
        "      <td>0</td>\n",
        "      <td>0</td>\n",
        "      <td>0</td>\n",
        "      <td>0</td>\n",
        "      <td>0</td>\n",
        "      <td>0</td>\n",
        "      <td>0</td>\n",
        "      <td>0</td>\n",
        "      <td>0</td>\n",
        "      <td>2</td>\n",
        "    </tr>\n",
        "    <tr>\n",
        "      <th>3</th>\n",
        "      <td>4</td>\n",
        "      <td>2785</td>\n",
        "      <td>155</td>\n",
        "      <td>18</td>\n",
        "      <td>242</td>\n",
        "      <td>118</td>\n",
        "      <td>3090</td>\n",
        "      <td>238</td>\n",
        "      <td>238</td>\n",
        "      <td>122</td>\n",
        "      <td>...</td>\n",
        "      <td>0</td>\n",
        "      <td>0</td>\n",
        "      <td>0</td>\n",
        "      <td>0</td>\n",
        "      <td>0</td>\n",
        "      <td>0</td>\n",
        "      <td>0</td>\n",
        "      <td>0</td>\n",
        "      <td>0</td>\n",
        "      <td>2</td>\n",
        "    </tr>\n",
        "    <tr>\n",
        "      <th>4</th>\n",
        "      <td>5</td>\n",
        "      <td>2595</td>\n",
        "      <td>45</td>\n",
        "      <td>2</td>\n",
        "      <td>153</td>\n",
        "      <td>-1</td>\n",
        "      <td>391</td>\n",
        "      <td>220</td>\n",
        "      <td>234</td>\n",
        "      <td>150</td>\n",
        "      <td>...</td>\n",
        "      <td>0</td>\n",
        "      <td>0</td>\n",
        "      <td>0</td>\n",
        "      <td>0</td>\n",
        "      <td>0</td>\n",
        "      <td>0</td>\n",
        "      <td>0</td>\n",
        "      <td>0</td>\n",
        "      <td>0</td>\n",
        "      <td>5</td>\n",
        "    </tr>\n",
        "  </tbody>\n",
        "</table>\n",
        "<p>5 rows \u00d7 56 columns</p>\n",
        "</div>"
       ],
       "metadata": {},
       "output_type": "pyout",
       "prompt_number": 5,
       "text": [
        "   Id  Elevation  Aspect  Slope  Horizontal_Distance_To_Hydrology  \\\n",
        "0   1       2596      51      3                               258   \n",
        "1   2       2590      56      2                               212   \n",
        "2   3       2804     139      9                               268   \n",
        "3   4       2785     155     18                               242   \n",
        "4   5       2595      45      2                               153   \n",
        "\n",
        "   Vertical_Distance_To_Hydrology  Horizontal_Distance_To_Roadways  \\\n",
        "0                               0                              510   \n",
        "1                              -6                              390   \n",
        "2                              65                             3180   \n",
        "3                             118                             3090   \n",
        "4                              -1                              391   \n",
        "\n",
        "   Hillshade_9am  Hillshade_Noon  Hillshade_3pm     ...      Soil_Type32  \\\n",
        "0            221             232            148     ...                0   \n",
        "1            220             235            151     ...                0   \n",
        "2            234             238            135     ...                0   \n",
        "3            238             238            122     ...                0   \n",
        "4            220             234            150     ...                0   \n",
        "\n",
        "   Soil_Type33  Soil_Type34  Soil_Type35  Soil_Type36  Soil_Type37  \\\n",
        "0            0            0            0            0            0   \n",
        "1            0            0            0            0            0   \n",
        "2            0            0            0            0            0   \n",
        "3            0            0            0            0            0   \n",
        "4            0            0            0            0            0   \n",
        "\n",
        "   Soil_Type38  Soil_Type39  Soil_Type40  Cover_Type  \n",
        "0            0            0            0           5  \n",
        "1            0            0            0           5  \n",
        "2            0            0            0           2  \n",
        "3            0            0            0           2  \n",
        "4            0            0            0           5  \n",
        "\n",
        "[5 rows x 56 columns]"
       ]
      }
     ],
     "prompt_number": 5
    },
    {
     "cell_type": "code",
     "collapsed": false,
     "input": [
      "train_data.describe()"
     ],
     "language": "python",
     "metadata": {},
     "outputs": [
      {
       "html": [
        "<div style=\"max-height:1000px;max-width:1500px;overflow:auto;\">\n",
        "<table border=\"1\" class=\"dataframe\">\n",
        "  <thead>\n",
        "    <tr style=\"text-align: right;\">\n",
        "      <th></th>\n",
        "      <th>Id</th>\n",
        "      <th>Elevation</th>\n",
        "      <th>Aspect</th>\n",
        "      <th>Slope</th>\n",
        "      <th>Horizontal_Distance_To_Hydrology</th>\n",
        "      <th>Vertical_Distance_To_Hydrology</th>\n",
        "      <th>Horizontal_Distance_To_Roadways</th>\n",
        "      <th>Hillshade_9am</th>\n",
        "      <th>Hillshade_Noon</th>\n",
        "      <th>Hillshade_3pm</th>\n",
        "      <th>...</th>\n",
        "      <th>Soil_Type32</th>\n",
        "      <th>Soil_Type33</th>\n",
        "      <th>Soil_Type34</th>\n",
        "      <th>Soil_Type35</th>\n",
        "      <th>Soil_Type36</th>\n",
        "      <th>Soil_Type37</th>\n",
        "      <th>Soil_Type38</th>\n",
        "      <th>Soil_Type39</th>\n",
        "      <th>Soil_Type40</th>\n",
        "      <th>Cover_Type</th>\n",
        "    </tr>\n",
        "  </thead>\n",
        "  <tbody>\n",
        "    <tr>\n",
        "      <th>count</th>\n",
        "      <td>15120.00000</td>\n",
        "      <td>15120.000000</td>\n",
        "      <td>15120.000000</td>\n",
        "      <td>15120.000000</td>\n",
        "      <td>15120.000000</td>\n",
        "      <td>15120.000000</td>\n",
        "      <td>15120.000000</td>\n",
        "      <td>15120.000000</td>\n",
        "      <td>15120.000000</td>\n",
        "      <td>15120.000000</td>\n",
        "      <td>...</td>\n",
        "      <td>15120.000000</td>\n",
        "      <td>15120.000000</td>\n",
        "      <td>15120.000000</td>\n",
        "      <td>15120.000000</td>\n",
        "      <td>15120.000000</td>\n",
        "      <td>15120.000000</td>\n",
        "      <td>15120.000000</td>\n",
        "      <td>15120.000000</td>\n",
        "      <td>15120.000000</td>\n",
        "      <td>15120.000000</td>\n",
        "    </tr>\n",
        "    <tr>\n",
        "      <th>mean</th>\n",
        "      <td>7560.50000</td>\n",
        "      <td>2749.322553</td>\n",
        "      <td>156.676653</td>\n",
        "      <td>16.501587</td>\n",
        "      <td>227.195701</td>\n",
        "      <td>51.076521</td>\n",
        "      <td>1714.023214</td>\n",
        "      <td>212.704299</td>\n",
        "      <td>218.965608</td>\n",
        "      <td>135.091997</td>\n",
        "      <td>...</td>\n",
        "      <td>0.045635</td>\n",
        "      <td>0.040741</td>\n",
        "      <td>0.001455</td>\n",
        "      <td>0.006746</td>\n",
        "      <td>0.000661</td>\n",
        "      <td>0.002249</td>\n",
        "      <td>0.048148</td>\n",
        "      <td>0.043452</td>\n",
        "      <td>0.030357</td>\n",
        "      <td>4.000000</td>\n",
        "    </tr>\n",
        "    <tr>\n",
        "      <th>std</th>\n",
        "      <td>4364.91237</td>\n",
        "      <td>417.678187</td>\n",
        "      <td>110.085801</td>\n",
        "      <td>8.453927</td>\n",
        "      <td>210.075296</td>\n",
        "      <td>61.239406</td>\n",
        "      <td>1325.066358</td>\n",
        "      <td>30.561287</td>\n",
        "      <td>22.801966</td>\n",
        "      <td>45.895189</td>\n",
        "      <td>...</td>\n",
        "      <td>0.208699</td>\n",
        "      <td>0.197696</td>\n",
        "      <td>0.038118</td>\n",
        "      <td>0.081859</td>\n",
        "      <td>0.025710</td>\n",
        "      <td>0.047368</td>\n",
        "      <td>0.214086</td>\n",
        "      <td>0.203880</td>\n",
        "      <td>0.171574</td>\n",
        "      <td>2.000066</td>\n",
        "    </tr>\n",
        "    <tr>\n",
        "      <th>min</th>\n",
        "      <td>1.00000</td>\n",
        "      <td>1863.000000</td>\n",
        "      <td>0.000000</td>\n",
        "      <td>0.000000</td>\n",
        "      <td>0.000000</td>\n",
        "      <td>-146.000000</td>\n",
        "      <td>0.000000</td>\n",
        "      <td>0.000000</td>\n",
        "      <td>99.000000</td>\n",
        "      <td>0.000000</td>\n",
        "      <td>...</td>\n",
        "      <td>0.000000</td>\n",
        "      <td>0.000000</td>\n",
        "      <td>0.000000</td>\n",
        "      <td>0.000000</td>\n",
        "      <td>0.000000</td>\n",
        "      <td>0.000000</td>\n",
        "      <td>0.000000</td>\n",
        "      <td>0.000000</td>\n",
        "      <td>0.000000</td>\n",
        "      <td>1.000000</td>\n",
        "    </tr>\n",
        "    <tr>\n",
        "      <th>25%</th>\n",
        "      <td>3780.75000</td>\n",
        "      <td>2376.000000</td>\n",
        "      <td>65.000000</td>\n",
        "      <td>10.000000</td>\n",
        "      <td>67.000000</td>\n",
        "      <td>5.000000</td>\n",
        "      <td>764.000000</td>\n",
        "      <td>196.000000</td>\n",
        "      <td>207.000000</td>\n",
        "      <td>106.000000</td>\n",
        "      <td>...</td>\n",
        "      <td>0.000000</td>\n",
        "      <td>0.000000</td>\n",
        "      <td>0.000000</td>\n",
        "      <td>0.000000</td>\n",
        "      <td>0.000000</td>\n",
        "      <td>0.000000</td>\n",
        "      <td>0.000000</td>\n",
        "      <td>0.000000</td>\n",
        "      <td>0.000000</td>\n",
        "      <td>2.000000</td>\n",
        "    </tr>\n",
        "    <tr>\n",
        "      <th>50%</th>\n",
        "      <td>7560.50000</td>\n",
        "      <td>2752.000000</td>\n",
        "      <td>126.000000</td>\n",
        "      <td>15.000000</td>\n",
        "      <td>180.000000</td>\n",
        "      <td>32.000000</td>\n",
        "      <td>1316.000000</td>\n",
        "      <td>220.000000</td>\n",
        "      <td>223.000000</td>\n",
        "      <td>138.000000</td>\n",
        "      <td>...</td>\n",
        "      <td>0.000000</td>\n",
        "      <td>0.000000</td>\n",
        "      <td>0.000000</td>\n",
        "      <td>0.000000</td>\n",
        "      <td>0.000000</td>\n",
        "      <td>0.000000</td>\n",
        "      <td>0.000000</td>\n",
        "      <td>0.000000</td>\n",
        "      <td>0.000000</td>\n",
        "      <td>4.000000</td>\n",
        "    </tr>\n",
        "    <tr>\n",
        "      <th>75%</th>\n",
        "      <td>11340.25000</td>\n",
        "      <td>3104.000000</td>\n",
        "      <td>261.000000</td>\n",
        "      <td>22.000000</td>\n",
        "      <td>330.000000</td>\n",
        "      <td>79.000000</td>\n",
        "      <td>2270.000000</td>\n",
        "      <td>235.000000</td>\n",
        "      <td>235.000000</td>\n",
        "      <td>167.000000</td>\n",
        "      <td>...</td>\n",
        "      <td>0.000000</td>\n",
        "      <td>0.000000</td>\n",
        "      <td>0.000000</td>\n",
        "      <td>0.000000</td>\n",
        "      <td>0.000000</td>\n",
        "      <td>0.000000</td>\n",
        "      <td>0.000000</td>\n",
        "      <td>0.000000</td>\n",
        "      <td>0.000000</td>\n",
        "      <td>6.000000</td>\n",
        "    </tr>\n",
        "    <tr>\n",
        "      <th>max</th>\n",
        "      <td>15120.00000</td>\n",
        "      <td>3849.000000</td>\n",
        "      <td>360.000000</td>\n",
        "      <td>52.000000</td>\n",
        "      <td>1343.000000</td>\n",
        "      <td>554.000000</td>\n",
        "      <td>6890.000000</td>\n",
        "      <td>254.000000</td>\n",
        "      <td>254.000000</td>\n",
        "      <td>248.000000</td>\n",
        "      <td>...</td>\n",
        "      <td>1.000000</td>\n",
        "      <td>1.000000</td>\n",
        "      <td>1.000000</td>\n",
        "      <td>1.000000</td>\n",
        "      <td>1.000000</td>\n",
        "      <td>1.000000</td>\n",
        "      <td>1.000000</td>\n",
        "      <td>1.000000</td>\n",
        "      <td>1.000000</td>\n",
        "      <td>7.000000</td>\n",
        "    </tr>\n",
        "  </tbody>\n",
        "</table>\n",
        "<p>8 rows \u00d7 56 columns</p>\n",
        "</div>"
       ],
       "metadata": {},
       "output_type": "pyout",
       "prompt_number": 6,
       "text": [
        "                Id     Elevation        Aspect         Slope  \\\n",
        "count  15120.00000  15120.000000  15120.000000  15120.000000   \n",
        "mean    7560.50000   2749.322553    156.676653     16.501587   \n",
        "std     4364.91237    417.678187    110.085801      8.453927   \n",
        "min        1.00000   1863.000000      0.000000      0.000000   \n",
        "25%     3780.75000   2376.000000     65.000000     10.000000   \n",
        "50%     7560.50000   2752.000000    126.000000     15.000000   \n",
        "75%    11340.25000   3104.000000    261.000000     22.000000   \n",
        "max    15120.00000   3849.000000    360.000000     52.000000   \n",
        "\n",
        "       Horizontal_Distance_To_Hydrology  Vertical_Distance_To_Hydrology  \\\n",
        "count                      15120.000000                    15120.000000   \n",
        "mean                         227.195701                       51.076521   \n",
        "std                          210.075296                       61.239406   \n",
        "min                            0.000000                     -146.000000   \n",
        "25%                           67.000000                        5.000000   \n",
        "50%                          180.000000                       32.000000   \n",
        "75%                          330.000000                       79.000000   \n",
        "max                         1343.000000                      554.000000   \n",
        "\n",
        "       Horizontal_Distance_To_Roadways  Hillshade_9am  Hillshade_Noon  \\\n",
        "count                     15120.000000   15120.000000    15120.000000   \n",
        "mean                       1714.023214     212.704299      218.965608   \n",
        "std                        1325.066358      30.561287       22.801966   \n",
        "min                           0.000000       0.000000       99.000000   \n",
        "25%                         764.000000     196.000000      207.000000   \n",
        "50%                        1316.000000     220.000000      223.000000   \n",
        "75%                        2270.000000     235.000000      235.000000   \n",
        "max                        6890.000000     254.000000      254.000000   \n",
        "\n",
        "       Hillshade_3pm      ...        Soil_Type32   Soil_Type33   Soil_Type34  \\\n",
        "count   15120.000000      ...       15120.000000  15120.000000  15120.000000   \n",
        "mean      135.091997      ...           0.045635      0.040741      0.001455   \n",
        "std        45.895189      ...           0.208699      0.197696      0.038118   \n",
        "min         0.000000      ...           0.000000      0.000000      0.000000   \n",
        "25%       106.000000      ...           0.000000      0.000000      0.000000   \n",
        "50%       138.000000      ...           0.000000      0.000000      0.000000   \n",
        "75%       167.000000      ...           0.000000      0.000000      0.000000   \n",
        "max       248.000000      ...           1.000000      1.000000      1.000000   \n",
        "\n",
        "        Soil_Type35   Soil_Type36   Soil_Type37   Soil_Type38   Soil_Type39  \\\n",
        "count  15120.000000  15120.000000  15120.000000  15120.000000  15120.000000   \n",
        "mean       0.006746      0.000661      0.002249      0.048148      0.043452   \n",
        "std        0.081859      0.025710      0.047368      0.214086      0.203880   \n",
        "min        0.000000      0.000000      0.000000      0.000000      0.000000   \n",
        "25%        0.000000      0.000000      0.000000      0.000000      0.000000   \n",
        "50%        0.000000      0.000000      0.000000      0.000000      0.000000   \n",
        "75%        0.000000      0.000000      0.000000      0.000000      0.000000   \n",
        "max        1.000000      1.000000      1.000000      1.000000      1.000000   \n",
        "\n",
        "        Soil_Type40    Cover_Type  \n",
        "count  15120.000000  15120.000000  \n",
        "mean       0.030357      4.000000  \n",
        "std        0.171574      2.000066  \n",
        "min        0.000000      1.000000  \n",
        "25%        0.000000      2.000000  \n",
        "50%        0.000000      4.000000  \n",
        "75%        0.000000      6.000000  \n",
        "max        1.000000      7.000000  \n",
        "\n",
        "[8 rows x 56 columns]"
       ]
      }
     ],
     "prompt_number": 6
    },
    {
     "cell_type": "code",
     "collapsed": false,
     "input": [
      "train_data.dtypes"
     ],
     "language": "python",
     "metadata": {},
     "outputs": [
      {
       "metadata": {},
       "output_type": "pyout",
       "prompt_number": 7,
       "text": [
        "Id                                    int64\n",
        "Elevation                             int64\n",
        "Aspect                                int64\n",
        "Slope                                 int64\n",
        "Horizontal_Distance_To_Hydrology      int64\n",
        "Vertical_Distance_To_Hydrology        int64\n",
        "Horizontal_Distance_To_Roadways       int64\n",
        "Hillshade_9am                         int64\n",
        "Hillshade_Noon                        int64\n",
        "Hillshade_3pm                         int64\n",
        "Horizontal_Distance_To_Fire_Points    int64\n",
        "Wilderness_Area1                      int64\n",
        "Wilderness_Area2                      int64\n",
        "Wilderness_Area3                      int64\n",
        "Wilderness_Area4                      int64\n",
        "Soil_Type1                            int64\n",
        "Soil_Type2                            int64\n",
        "Soil_Type3                            int64\n",
        "Soil_Type4                            int64\n",
        "Soil_Type5                            int64\n",
        "Soil_Type6                            int64\n",
        "Soil_Type7                            int64\n",
        "Soil_Type8                            int64\n",
        "Soil_Type9                            int64\n",
        "Soil_Type10                           int64\n",
        "Soil_Type11                           int64\n",
        "Soil_Type12                           int64\n",
        "Soil_Type13                           int64\n",
        "Soil_Type14                           int64\n",
        "Soil_Type15                           int64\n",
        "Soil_Type16                           int64\n",
        "Soil_Type17                           int64\n",
        "Soil_Type18                           int64\n",
        "Soil_Type19                           int64\n",
        "Soil_Type20                           int64\n",
        "Soil_Type21                           int64\n",
        "Soil_Type22                           int64\n",
        "Soil_Type23                           int64\n",
        "Soil_Type24                           int64\n",
        "Soil_Type25                           int64\n",
        "Soil_Type26                           int64\n",
        "Soil_Type27                           int64\n",
        "Soil_Type28                           int64\n",
        "Soil_Type29                           int64\n",
        "Soil_Type30                           int64\n",
        "Soil_Type31                           int64\n",
        "Soil_Type32                           int64\n",
        "Soil_Type33                           int64\n",
        "Soil_Type34                           int64\n",
        "Soil_Type35                           int64\n",
        "Soil_Type36                           int64\n",
        "Soil_Type37                           int64\n",
        "Soil_Type38                           int64\n",
        "Soil_Type39                           int64\n",
        "Soil_Type40                           int64\n",
        "Cover_Type                            int64\n",
        "dtype: object"
       ]
      }
     ],
     "prompt_number": 7
    },
    {
     "cell_type": "code",
     "collapsed": false,
     "input": [
      "train_data.Cover_Type = pd.Categorical(train_data.Cover_Type)"
     ],
     "language": "python",
     "metadata": {},
     "outputs": [],
     "prompt_number": 3
    },
    {
     "cell_type": "code",
     "collapsed": false,
     "input": [
      "train_data.dtypes"
     ],
     "language": "python",
     "metadata": {},
     "outputs": [
      {
       "metadata": {},
       "output_type": "pyout",
       "prompt_number": 9,
       "text": [
        "Id                                       int64\n",
        "Elevation                                int64\n",
        "Aspect                                   int64\n",
        "Slope                                    int64\n",
        "Horizontal_Distance_To_Hydrology         int64\n",
        "Vertical_Distance_To_Hydrology           int64\n",
        "Horizontal_Distance_To_Roadways          int64\n",
        "Hillshade_9am                            int64\n",
        "Hillshade_Noon                           int64\n",
        "Hillshade_3pm                            int64\n",
        "Horizontal_Distance_To_Fire_Points       int64\n",
        "Wilderness_Area1                         int64\n",
        "Wilderness_Area2                         int64\n",
        "Wilderness_Area3                         int64\n",
        "Wilderness_Area4                         int64\n",
        "Soil_Type1                               int64\n",
        "Soil_Type2                               int64\n",
        "Soil_Type3                               int64\n",
        "Soil_Type4                               int64\n",
        "Soil_Type5                               int64\n",
        "Soil_Type6                               int64\n",
        "Soil_Type7                               int64\n",
        "Soil_Type8                               int64\n",
        "Soil_Type9                               int64\n",
        "Soil_Type10                              int64\n",
        "Soil_Type11                              int64\n",
        "Soil_Type12                              int64\n",
        "Soil_Type13                              int64\n",
        "Soil_Type14                              int64\n",
        "Soil_Type15                              int64\n",
        "Soil_Type16                              int64\n",
        "Soil_Type17                              int64\n",
        "Soil_Type18                              int64\n",
        "Soil_Type19                              int64\n",
        "Soil_Type20                              int64\n",
        "Soil_Type21                              int64\n",
        "Soil_Type22                              int64\n",
        "Soil_Type23                              int64\n",
        "Soil_Type24                              int64\n",
        "Soil_Type25                              int64\n",
        "Soil_Type26                              int64\n",
        "Soil_Type27                              int64\n",
        "Soil_Type28                              int64\n",
        "Soil_Type29                              int64\n",
        "Soil_Type30                              int64\n",
        "Soil_Type31                              int64\n",
        "Soil_Type32                              int64\n",
        "Soil_Type33                              int64\n",
        "Soil_Type34                              int64\n",
        "Soil_Type35                              int64\n",
        "Soil_Type36                              int64\n",
        "Soil_Type37                              int64\n",
        "Soil_Type38                              int64\n",
        "Soil_Type39                              int64\n",
        "Soil_Type40                              int64\n",
        "Cover_Type                            category\n",
        "dtype: object"
       ]
      }
     ],
     "prompt_number": 9
    },
    {
     "cell_type": "code",
     "collapsed": false,
     "input": [
      "train_indep = train_data.drop(['Id', 'Cover_Type'], axis = 1)\n",
      "train_dep = train_data.Cover_Type\n",
      "\n",
      "test_X = test_data.drop(['Id'], axis = 1)"
     ],
     "language": "python",
     "metadata": {},
     "outputs": [],
     "prompt_number": 4
    },
    {
     "cell_type": "code",
     "collapsed": false,
     "input": [
      "train_X, val_X, train_y, val_y = train_test_split(train_indep,\n",
      "                                                  train_dep, test_size = 0.25, random_state = 42)"
     ],
     "language": "python",
     "metadata": {},
     "outputs": [],
     "prompt_number": 5
    },
    {
     "cell_type": "code",
     "collapsed": false,
     "input": [
      "train_X.shape"
     ],
     "language": "python",
     "metadata": {},
     "outputs": [
      {
       "metadata": {},
       "output_type": "pyout",
       "prompt_number": 6,
       "text": [
        "(11340, 54)"
       ]
      }
     ],
     "prompt_number": 6
    },
    {
     "cell_type": "code",
     "collapsed": false,
     "input": [
      "train_y.shape"
     ],
     "language": "python",
     "metadata": {},
     "outputs": [
      {
       "metadata": {},
       "output_type": "pyout",
       "prompt_number": 7,
       "text": [
        "(11340,)"
       ]
      }
     ],
     "prompt_number": 7
    },
    {
     "cell_type": "code",
     "collapsed": false,
     "input": [
      "val_X.shape"
     ],
     "language": "python",
     "metadata": {},
     "outputs": [
      {
       "metadata": {},
       "output_type": "pyout",
       "prompt_number": 8,
       "text": [
        "(3780, 54)"
       ]
      }
     ],
     "prompt_number": 8
    },
    {
     "cell_type": "code",
     "collapsed": false,
     "input": [
      "val_y.shape"
     ],
     "language": "python",
     "metadata": {},
     "outputs": [
      {
       "metadata": {},
       "output_type": "pyout",
       "prompt_number": 9,
       "text": [
        "(3780,)"
       ]
      }
     ],
     "prompt_number": 9
    },
    {
     "cell_type": "code",
     "collapsed": false,
     "input": [
      "# One-vs-All Logistic Regression\n",
      "parameters = {'C': [0.001, 0.01, 0.1, 1, 3, 10, 100]}\n",
      "logit_mod = LogisticRegression()\n",
      "clf = GridSearchCV(logit_mod, parameters, verbose = 1, n_jobs = -1)"
     ],
     "language": "python",
     "metadata": {},
     "outputs": [],
     "prompt_number": 31
    },
    {
     "cell_type": "code",
     "collapsed": false,
     "input": [
      "fit = clf.fit(train_X, train_y)"
     ],
     "language": "python",
     "metadata": {},
     "outputs": [
      {
       "output_type": "stream",
       "stream": "stdout",
       "text": [
        "Fitting 3 folds for each of 7 candidates, totalling 21 fits\n"
       ]
      },
      {
       "output_type": "stream",
       "stream": "stderr",
       "text": [
        "[Parallel(n_jobs=-1)]: Done   1 jobs       | elapsed:    2.6s\n",
        "[Parallel(n_jobs=-1)]: Done  15 out of  21 | elapsed:   17.3s remaining:    6.9s\n",
        "[Parallel(n_jobs=-1)]: Done  21 out of  21 | elapsed:   22.4s finished\n"
       ]
      }
     ],
     "prompt_number": 32
    },
    {
     "cell_type": "code",
     "collapsed": false,
     "input": [
      "logit_mod = LogisticRegression(C = 10)\n",
      "fit = logit_mod.fit(train_X, train_y)"
     ],
     "language": "python",
     "metadata": {},
     "outputs": [],
     "prompt_number": 118
    },
    {
     "cell_type": "code",
     "collapsed": false,
     "input": [
      "predict = fit.predict(val_X)"
     ],
     "language": "python",
     "metadata": {},
     "outputs": [],
     "prompt_number": 119
    },
    {
     "cell_type": "code",
     "collapsed": false,
     "input": [
      "predict"
     ],
     "language": "python",
     "metadata": {},
     "outputs": [
      {
       "metadata": {},
       "output_type": "pyout",
       "prompt_number": 120,
       "text": [
        "array([4, 6, 7, ..., 5, 5, 6])"
       ]
      }
     ],
     "prompt_number": 120
    },
    {
     "cell_type": "code",
     "collapsed": false,
     "input": [
      "score = np.sum(predict == val_y)/float(len(predict))"
     ],
     "language": "python",
     "metadata": {},
     "outputs": [],
     "prompt_number": 121
    },
    {
     "cell_type": "code",
     "collapsed": false,
     "input": [
      "score"
     ],
     "language": "python",
     "metadata": {},
     "outputs": [
      {
       "metadata": {},
       "output_type": "pyout",
       "prompt_number": 122,
       "text": [
        "0.67592592592592593"
       ]
      }
     ],
     "prompt_number": 122
    },
    {
     "cell_type": "code",
     "collapsed": false,
     "input": [
      "# This doesn't seem to be like a very good score\n",
      "# Let us try linearSVC\n",
      "from sklearn.svm import LinearSVC"
     ],
     "language": "python",
     "metadata": {},
     "outputs": [],
     "prompt_number": 123
    },
    {
     "cell_type": "code",
     "collapsed": false,
     "input": [
      "parameters = {'C': [0.001, 0.01, 0.1, 1, 3, 10, 30, 100]}\n",
      "linear_svc = LinearSVC()\n",
      "clf = GridSearchCV(linear_svc, parameters, verbose = 1, n_jobs = 3)"
     ],
     "language": "python",
     "metadata": {},
     "outputs": [],
     "prompt_number": 124
    },
    {
     "cell_type": "code",
     "collapsed": false,
     "input": [
      "fit = clf.fit(train_X, train_y)"
     ],
     "language": "python",
     "metadata": {},
     "outputs": [
      {
       "output_type": "stream",
       "stream": "stdout",
       "text": [
        "Fitting 3 folds for each of 8 candidates, totalling 24 fits\n"
       ]
      },
      {
       "output_type": "stream",
       "stream": "stderr",
       "text": [
        "[Parallel(n_jobs=3)]: Done   1 jobs       | elapsed:    8.2s\n",
        "[Parallel(n_jobs=3)]: Done  20 out of  24 | elapsed:   51.6s remaining:   10.3s\n",
        "[Parallel(n_jobs=3)]: Done  24 out of  24 | elapsed:  1.1min finished\n"
       ]
      }
     ],
     "prompt_number": 128
    },
    {
     "cell_type": "code",
     "collapsed": false,
     "input": [
      "fit.best_params_"
     ],
     "language": "python",
     "metadata": {},
     "outputs": [
      {
       "metadata": {},
       "output_type": "pyout",
       "prompt_number": 129,
       "text": [
        "{'C': 10}"
       ]
      }
     ],
     "prompt_number": 129
    },
    {
     "cell_type": "code",
     "collapsed": false,
     "input": [
      "linear_svc = LinearSVC(C = 10)\n",
      "fit = linear_svc.fit(train_X, train_y)\n",
      "predict = fit.predict(val_X)\n",
      "score = np.sum(predict == val_y)/float(len(predict))\n",
      "score"
     ],
     "language": "python",
     "metadata": {},
     "outputs": [
      {
       "metadata": {},
       "output_type": "pyout",
       "prompt_number": 133,
       "text": [
        "0.24814814814814815"
       ]
      }
     ],
     "prompt_number": 133
    },
    {
     "cell_type": "code",
     "collapsed": false,
     "input": [
      "# This is even worse\n",
      "# Finally let's use a random Forest model\n",
      "from sklearn.ensemble import RandomForestClassifier as rf"
     ],
     "language": "python",
     "metadata": {},
     "outputs": [],
     "prompt_number": 6
    },
    {
     "cell_type": "code",
     "collapsed": false,
     "input": [
      "parameters = {'n_estimators': [1000, 2000, 5000, 10000]}\n",
      "rf_classif = rf()\n",
      "clf = GridSearchCV(rf_classif, parameters, verbose = 1, n_jobs = 4)\n",
      "fit = clf.fit(train_X, train_y)\n",
      "fit.best_params_"
     ],
     "language": "python",
     "metadata": {},
     "outputs": [
      {
       "output_type": "stream",
       "stream": "stdout",
       "text": [
        "Fitting 3 folds for each of 4 candidates, totalling 12 fits\n"
       ]
      }
     ],
     "prompt_number": "*"
    },
    {
     "cell_type": "code",
     "collapsed": false,
     "input": [
      "rf_classif = rf(n_estimators = 2000, verbose = 1, n_jobs = 4)\n",
      "fit = rf_classif.fit(train_X, train_y)"
     ],
     "language": "python",
     "metadata": {},
     "outputs": [
      {
       "output_type": "stream",
       "stream": "stderr",
       "text": [
        "[Parallel(n_jobs=1)]: Done   1 jobs       | elapsed:   27.2s\n",
        "[Parallel(n_jobs=1)]: Done   1 out of   1 | elapsed:   27.2s finished\n"
       ]
      }
     ],
     "prompt_number": 7
    },
    {
     "cell_type": "code",
     "collapsed": false,
     "input": [
      "predict = fit.predict(val_X)"
     ],
     "language": "python",
     "metadata": {},
     "outputs": [
      {
       "output_type": "stream",
       "stream": "stderr",
       "text": [
        "[Parallel(n_jobs=1)]: Done   1 jobs       | elapsed:    0.9s\n",
        "[Parallel(n_jobs=1)]: Done   1 out of   1 | elapsed:    0.9s finished\n"
       ]
      }
     ],
     "prompt_number": 10
    },
    {
     "cell_type": "code",
     "collapsed": false,
     "input": [
      "score = np.sum(predict == val_y)/float(len(predict))\n",
      "score"
     ],
     "language": "python",
     "metadata": {},
     "outputs": [
      {
       "metadata": {},
       "output_type": "pyout",
       "prompt_number": 11,
       "text": [
        "0.86798941798941798"
       ]
      }
     ],
     "prompt_number": 11
    },
    {
     "cell_type": "code",
     "collapsed": false,
     "input": [
      "0.86798941798941798"
     ],
     "language": "python",
     "metadata": {},
     "outputs": []
    }
   ],
   "metadata": {}
  }
 ]
}