{
 "metadata": {
  "name": ""
 },
 "nbformat": 3,
 "nbformat_minor": 0,
 "worksheets": [
  {
   "cells": [
    {
     "cell_type": "code",
     "collapsed": false,
     "input": [
      "from ggplot import *\n",
      "import numpy as np\n",
      "from sklearn import datasets\n",
      "from sklearn.decomposition import PCA\n",
      "from sklearn.grid_search import GridSearchCV\n",
      "from sklearn.svm import SVC\n",
      "from sklearn.ensemble import RandomForestClassifier as rfClassifier\n",
      "from sklearn.cross_validation import train_test_split\n",
      "import pandas as pd\n",
      "from pandas import DataFrame"
     ],
     "language": "python",
     "metadata": {},
     "outputs": [],
     "prompt_number": 3
    },
    {
     "cell_type": "code",
     "collapsed": false,
     "input": [
      "# Read train and test data\n",
      "train = pd.read_csv('train.csv')\n",
      "test = pd.read_csv('test.csv')\n",
      "\n",
      "# Final training dataframe after dropping \"id\" and \"target\" cols\n",
      "data_X = train.drop([\"id\", \"target\"], axis = 1)\n",
      "data_y = train[\"target\"]\n",
      "\n",
      "train_X, val_X, train_y, val_y = train_test_split(data_X, data_y,\n",
      "                                                  test_size = 0.33, random_state = 42)\n",
      "\n",
      "test_X = test.drop([\"id\"], axis = 1)"
     ],
     "language": "python",
     "metadata": {},
     "outputs": [],
     "prompt_number": 4
    },
    {
     "cell_type": "code",
     "collapsed": false,
     "input": [
      "tuning_params = [{'C': [0.01, 0.1, 1, 10, 50, 100]},\n",
      "                 {'kernel': ['rbf', 'linear', 'poly', 'sigmoid']}]"
     ],
     "language": "python",
     "metadata": {},
     "outputs": []
    }
   ],
   "metadata": {}
  }
 ]
}