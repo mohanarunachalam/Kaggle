{
 "metadata": {
  "name": ""
 },
 "nbformat": 3,
 "nbformat_minor": 0,
 "worksheets": [
  {
   "cells": [
    {
     "cell_type": "code",
     "collapsed": false,
     "input": [
      "from ggplot import *\n",
      "import numpy as np\n",
      "from sklearn import datasets\n",
      "from sklearn.decomposition import PCA\n",
      "from sklearn.grid_search import GridSearchCV\n",
      "from sklearn.ensemble import RandomForestClassifier as rfClassifier\n",
      "from sklearn.cross_validation import train_test_split\n",
      "from sklearn.preprocessing import balance_weights\n",
      "import pandas as pd\n",
      "from pandas import DataFrame"
     ],
     "language": "python",
     "metadata": {},
     "outputs": [],
     "prompt_number": 2
    },
    {
     "cell_type": "code",
     "collapsed": false,
     "input": [
      "# Read train and test data\n",
      "train = pd.read_csv('train.csv')\n",
      "test = pd.read_csv('test.csv')\n",
      "\n",
      "# Final training dataframe after dropping \"id\" and \"target\" cols\n",
      "data_X = train.drop([\"id\", \"target\"], axis = 1)\n",
      "data_y = train[\"target\"]\n",
      "\n",
      "train_X, val_X, train_y, val_y = train_test_split(data_X, data_y,\n",
      "                                                  test_size = 0.33, random_state = 42)\n",
      "\n",
      "test_X = test.drop([\"id\"], axis = 1)"
     ],
     "language": "python",
     "metadata": {},
     "outputs": [],
     "prompt_number": 3
    },
    {
     "cell_type": "code",
     "collapsed": false,
     "input": [
      "#rf = GridSearchCV(rfClassifier(), [{'n_estimators': [10, 50, 100, 150, 200, 300, 500]}, \n",
      "                                   #{'max_features': [\"sqrt\", \"log2\", None]}])\n",
      "rf = rfClassifier(n_estimators = 500, max_features = 18, verbose = 1)"
     ],
     "language": "python",
     "metadata": {},
     "outputs": [],
     "prompt_number": 8
    },
    {
     "cell_type": "code",
     "collapsed": false,
     "input": [
      "rf_fit = rf.fit(train_X, train_y, sample_weight = balance_weights(train_y))"
     ],
     "language": "python",
     "metadata": {},
     "outputs": [
      {
       "output_type": "stream",
       "stream": "stderr",
       "text": [
        "/usr/local/lib/python2.7/dist-packages/sklearn/utils/__init__.py:93: DeprecationWarning: Function balance_weights is deprecated; balance_weights is an internal function and will be removed in 0.16\n",
        "  warnings.warn(msg, category=DeprecationWarning)\n",
        "[Parallel(n_jobs=1)]: Done   1 jobs       | elapsed:  2.0min\n"
       ]
      },
      {
       "output_type": "stream",
       "stream": "stderr",
       "text": [
        "[Parallel(n_jobs=1)]: Done   1 out of   1 | elapsed:  2.0min finished\n"
       ]
      }
     ],
     "prompt_number": 9
    },
    {
     "cell_type": "code",
     "collapsed": false,
     "input": [
      "rf_fit"
     ],
     "language": "python",
     "metadata": {},
     "outputs": [
      {
       "metadata": {},
       "output_type": "pyout",
       "prompt_number": 10,
       "text": [
        "RandomForestClassifier(bootstrap=True, compute_importances=None,\n",
        "            criterion='gini', max_depth=None, max_features=18,\n",
        "            max_leaf_nodes=None, min_density=None, min_samples_leaf=1,\n",
        "            min_samples_split=2, n_estimators=500, n_jobs=1,\n",
        "            oob_score=False, random_state=None, verbose=1)"
       ]
      }
     ],
     "prompt_number": 10
    },
    {
     "cell_type": "code",
     "collapsed": false,
     "input": [
      "rf_prob = rf_fit.score(val_X, val_y)"
     ],
     "language": "python",
     "metadata": {},
     "outputs": [
      {
       "output_type": "stream",
       "stream": "stderr",
       "text": [
        "[Parallel(n_jobs=1)]: Done   1 jobs       | elapsed:   11.5s\n",
        "[Parallel(n_jobs=1)]: Done   1 out of   1 | elapsed:   11.5s finished\n"
       ]
      }
     ],
     "prompt_number": 11
    },
    {
     "cell_type": "code",
     "collapsed": false,
     "input": [
      "rf_prob"
     ],
     "language": "python",
     "metadata": {},
     "outputs": [
      {
       "metadata": {},
       "output_type": "pyout",
       "prompt_number": 12,
       "text": [
        "0.81219392752203723"
       ]
      }
     ],
     "prompt_number": 12
    },
    {
     "cell_type": "code",
     "collapsed": false,
     "input": [
      "rf_prob = rf_fit.predict_proba(test_X)"
     ],
     "language": "python",
     "metadata": {},
     "outputs": [
      {
       "output_type": "stream",
       "stream": "stderr",
       "text": [
        "[Parallel(n_jobs=1)]: Done   1 jobs       | elapsed:   22.2s\n",
        "[Parallel(n_jobs=1)]: Done   1 out of   1 | elapsed:   22.2s finished\n"
       ]
      }
     ],
     "prompt_number": 13
    },
    {
     "cell_type": "code",
     "collapsed": false,
     "input": [
      "df = DataFrame(rf_prob, columns = np.unique(train_y))\n",
      "df.insert(loc = 0, column = \"id\", value = test[\"id\"])"
     ],
     "language": "python",
     "metadata": {},
     "outputs": [],
     "prompt_number": 14
    },
    {
     "cell_type": "code",
     "collapsed": false,
     "input": [
      "df.to_csv(\"RfWeightedSolution.csv\", index = False)"
     ],
     "language": "python",
     "metadata": {},
     "outputs": [],
     "prompt_number": 15
    },
    {
     "cell_type": "code",
     "collapsed": false,
     "input": [],
     "language": "python",
     "metadata": {},
     "outputs": []
    }
   ],
   "metadata": {}
  }
 ]
}